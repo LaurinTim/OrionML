{
 "cells": [
  {
   "cell_type": "markdown",
   "id": "35774721-3b92-438c-bd3e-516c281ec3ef",
   "metadata": {},
   "source": [
    "# Classification with Neural Network example\n",
    "\n",
    "In this notebook, an example of classification using neural networks is given. For this, the MNIST dataset (https://www.tensorflow.org/datasets/catalog/mnist) is used. This dataset includes 60'000 training and 10'000 validation samples. Each sample is a 28 by 28 greyscale image depicting a number from 0 to 9. Our goal is to predict this number correctly from the image."
   ]
  },
  {
   "cell_type": "code",
   "execution_count": 2,
   "id": "657d90d4-c3a5-414f-ad3d-38b983197a88",
   "metadata": {},
   "outputs": [],
   "source": [
    "import numpy as np\n",
    "import matplotlib.pyplot as plt\n",
    "import seaborn as sns\n",
    "import pandas as pd\n",
    "\n",
    "import os\n",
    "os.chdir(\"C:\\\\Users\\\\main\\\\Proton Drive\\\\laurin.koller\\\\My files\\\\ML\\\\repos\\\\OrionML\")\n",
    "\n",
    "import OrionML as orn"
   ]
  },
  {
   "cell_type": "markdown",
   "id": "6b282748-b2a6-4896-8e8c-798945f5d897",
   "metadata": {},
   "source": [
    "### Load the data\n",
    "\n",
    "The data is saved in csv files where each row corresponds to 1 sample. The first column is the correct number depicted on the image and the remaining columns contain the information about the image. The training set is split between two csv files each containing 30'000 examples. These are loaded and then merged to one dataframe."
   ]
  },
  {
   "cell_type": "code",
   "execution_count": 152,
   "id": "18f12495-672d-4b91-9fc0-f8195ee2eadc",
   "metadata": {},
   "outputs": [
    {
     "data": {
      "text/html": [
       "<div>\n",
       "<style scoped>\n",
       "    .dataframe tbody tr th:only-of-type {\n",
       "        vertical-align: middle;\n",
       "    }\n",
       "\n",
       "    .dataframe tbody tr th {\n",
       "        vertical-align: top;\n",
       "    }\n",
       "\n",
       "    .dataframe thead th {\n",
       "        text-align: right;\n",
       "    }\n",
       "</style>\n",
       "<table border=\"1\" class=\"dataframe\">\n",
       "  <thead>\n",
       "    <tr style=\"text-align: right;\">\n",
       "      <th></th>\n",
       "      <th>0</th>\n",
       "      <th>1</th>\n",
       "      <th>2</th>\n",
       "      <th>3</th>\n",
       "      <th>4</th>\n",
       "      <th>5</th>\n",
       "      <th>6</th>\n",
       "      <th>7</th>\n",
       "      <th>8</th>\n",
       "      <th>9</th>\n",
       "      <th>...</th>\n",
       "      <th>775</th>\n",
       "      <th>776</th>\n",
       "      <th>777</th>\n",
       "      <th>778</th>\n",
       "      <th>779</th>\n",
       "      <th>780</th>\n",
       "      <th>781</th>\n",
       "      <th>782</th>\n",
       "      <th>783</th>\n",
       "      <th>784</th>\n",
       "    </tr>\n",
       "  </thead>\n",
       "  <tbody>\n",
       "    <tr>\n",
       "      <th>0</th>\n",
       "      <td>5</td>\n",
       "      <td>0</td>\n",
       "      <td>0</td>\n",
       "      <td>0</td>\n",
       "      <td>0</td>\n",
       "      <td>0</td>\n",
       "      <td>0</td>\n",
       "      <td>0</td>\n",
       "      <td>0</td>\n",
       "      <td>0</td>\n",
       "      <td>...</td>\n",
       "      <td>0</td>\n",
       "      <td>0</td>\n",
       "      <td>0</td>\n",
       "      <td>0</td>\n",
       "      <td>0</td>\n",
       "      <td>0</td>\n",
       "      <td>0</td>\n",
       "      <td>0</td>\n",
       "      <td>0</td>\n",
       "      <td>0</td>\n",
       "    </tr>\n",
       "    <tr>\n",
       "      <th>1</th>\n",
       "      <td>0</td>\n",
       "      <td>0</td>\n",
       "      <td>0</td>\n",
       "      <td>0</td>\n",
       "      <td>0</td>\n",
       "      <td>0</td>\n",
       "      <td>0</td>\n",
       "      <td>0</td>\n",
       "      <td>0</td>\n",
       "      <td>0</td>\n",
       "      <td>...</td>\n",
       "      <td>0</td>\n",
       "      <td>0</td>\n",
       "      <td>0</td>\n",
       "      <td>0</td>\n",
       "      <td>0</td>\n",
       "      <td>0</td>\n",
       "      <td>0</td>\n",
       "      <td>0</td>\n",
       "      <td>0</td>\n",
       "      <td>0</td>\n",
       "    </tr>\n",
       "    <tr>\n",
       "      <th>2</th>\n",
       "      <td>4</td>\n",
       "      <td>0</td>\n",
       "      <td>0</td>\n",
       "      <td>0</td>\n",
       "      <td>0</td>\n",
       "      <td>0</td>\n",
       "      <td>0</td>\n",
       "      <td>0</td>\n",
       "      <td>0</td>\n",
       "      <td>0</td>\n",
       "      <td>...</td>\n",
       "      <td>0</td>\n",
       "      <td>0</td>\n",
       "      <td>0</td>\n",
       "      <td>0</td>\n",
       "      <td>0</td>\n",
       "      <td>0</td>\n",
       "      <td>0</td>\n",
       "      <td>0</td>\n",
       "      <td>0</td>\n",
       "      <td>0</td>\n",
       "    </tr>\n",
       "    <tr>\n",
       "      <th>3</th>\n",
       "      <td>1</td>\n",
       "      <td>0</td>\n",
       "      <td>0</td>\n",
       "      <td>0</td>\n",
       "      <td>0</td>\n",
       "      <td>0</td>\n",
       "      <td>0</td>\n",
       "      <td>0</td>\n",
       "      <td>0</td>\n",
       "      <td>0</td>\n",
       "      <td>...</td>\n",
       "      <td>0</td>\n",
       "      <td>0</td>\n",
       "      <td>0</td>\n",
       "      <td>0</td>\n",
       "      <td>0</td>\n",
       "      <td>0</td>\n",
       "      <td>0</td>\n",
       "      <td>0</td>\n",
       "      <td>0</td>\n",
       "      <td>0</td>\n",
       "    </tr>\n",
       "    <tr>\n",
       "      <th>4</th>\n",
       "      <td>9</td>\n",
       "      <td>0</td>\n",
       "      <td>0</td>\n",
       "      <td>0</td>\n",
       "      <td>0</td>\n",
       "      <td>0</td>\n",
       "      <td>0</td>\n",
       "      <td>0</td>\n",
       "      <td>0</td>\n",
       "      <td>0</td>\n",
       "      <td>...</td>\n",
       "      <td>0</td>\n",
       "      <td>0</td>\n",
       "      <td>0</td>\n",
       "      <td>0</td>\n",
       "      <td>0</td>\n",
       "      <td>0</td>\n",
       "      <td>0</td>\n",
       "      <td>0</td>\n",
       "      <td>0</td>\n",
       "      <td>0</td>\n",
       "    </tr>\n",
       "  </tbody>\n",
       "</table>\n",
       "<p>5 rows × 785 columns</p>\n",
       "</div>"
      ],
      "text/plain": [
       "   0    1    2    3    4    5    6    7    8    9    ...  775  776  777  778  \\\n",
       "0    5    0    0    0    0    0    0    0    0    0  ...    0    0    0    0   \n",
       "1    0    0    0    0    0    0    0    0    0    0  ...    0    0    0    0   \n",
       "2    4    0    0    0    0    0    0    0    0    0  ...    0    0    0    0   \n",
       "3    1    0    0    0    0    0    0    0    0    0  ...    0    0    0    0   \n",
       "4    9    0    0    0    0    0    0    0    0    0  ...    0    0    0    0   \n",
       "\n",
       "   779  780  781  782  783  784  \n",
       "0    0    0    0    0    0    0  \n",
       "1    0    0    0    0    0    0  \n",
       "2    0    0    0    0    0    0  \n",
       "3    0    0    0    0    0    0  \n",
       "4    0    0    0    0    0    0  \n",
       "\n",
       "[5 rows x 785 columns]"
      ]
     },
     "execution_count": 152,
     "metadata": {},
     "output_type": "execute_result"
    }
   ],
   "source": [
    "df1 = pd.read_csv(\"C:\\\\Users\\\\main\\\\Proton Drive\\\\laurin.koller\\\\My files\\\\ML\\\\repos\\\\OrionML\\\\Examples\\\\example data\\\\MNIST\\\\mnist_train1.csv\", \n",
    "                   delimiter=\",\", header=None)\n",
    "\n",
    "df2 = pd.read_csv(\"C:\\\\Users\\\\main\\\\Proton Drive\\\\laurin.koller\\\\My files\\\\ML\\\\repos\\\\OrionML\\\\Examples\\\\example data\\\\MNIST\\\\mnist_train2.csv\", \n",
    "                   delimiter=\",\", header=None)\n",
    "\n",
    "df = pd.concat([df1, df2], axis=0).reset_index(drop=True)\n",
    "\n",
    "df_val = pd.read_csv(\"C:\\\\Users\\\\main\\\\Proton Drive\\\\laurin.koller\\\\My files\\\\ML\\\\repos\\\\OrionML\\\\Examples\\\\example data\\\\MNIST\\\\mnist_test.csv\", \n",
    "                   delimiter=\",\", header=None)\n",
    "\n",
    "\n",
    "df.head()"
   ]
  },
  {
   "cell_type": "markdown",
   "id": "9120fb7c-9934-4a54-baf0-9ddbd59b7ed3",
   "metadata": {},
   "source": [
    "The first 10 samples in the training set are shown below."
   ]
  },
  {
   "cell_type": "code",
   "execution_count": 155,
   "id": "afc6547c-4f57-44d0-8c1a-923f0b35e778",
   "metadata": {},
   "outputs": [
    {
     "data": {
      "image/png": "[encoded data removed]",
      "text/plain": [
       "<Figure size 2000x800 with 10 Axes>"
      ]
     },
     "metadata": {},
     "output_type": "display_data"
    }
   ],
   "source": [
    "fig, axs = plt.subplots(ncols=5, nrows=2, figsize=(20,8))\n",
    "\n",
    "for index,ax in enumerate(axs.flatten()):\n",
    "    curr_data = np.array(df.iloc[index])\n",
    "    correct_number = curr_data[0]\n",
    "    image_data = curr_data[1:].reshape(28,28)\n",
    "    ax.imshow(image_data, cmap=\"grey\")\n",
    "    ax.set_title(f\"Correct number: {correct_number}\")\n",
    "    ax.axis(\"off\")"
   ]
  },
  {
   "cell_type": "code",
   "execution_count": 341,
   "id": "5a9b7115-21af-4763-a29b-295c5a77ff0d",
   "metadata": {},
   "outputs": [
    {
     "data": {
      "text/plain": [
       "(-0.5, 27.5, 27.5, -0.5)"
      ]
     },
     "execution_count": 341,
     "metadata": {},
     "output_type": "execute_result"
    },
    {
     "data": {
      "image/png": "[encoded data removed]",
      "text/plain": [
       "<Figure size 640x480 with 1 Axes>"
      ]
     },
     "metadata": {},
     "output_type": "display_data"
    }
   ],
   "source": [
    "curr_data = np.array(df.iloc[37])\n",
    "correct_number = curr_data[0]\n",
    "image_data = curr_data[1:].reshape(28,28)\n",
    "plt.imshow(image_data, cmap=\"grey\")\n",
    "plt.title(f\"Correct number: {correct_number}\")\n",
    "plt.axis(\"off\")"
   ]
  },
  {
   "cell_type": "markdown",
   "id": "9bb3694c-69ab-472f-a187-ae6da0193971",
   "metadata": {},
   "source": [
    "Below two histograms can be seen showing the number of samples for each number are in the training and validation set. Both distributions look similar and there is no number that has substantially less training or validation samples than the rest."
   ]
  },
  {
   "cell_type": "code",
   "execution_count": 295,
   "id": "a168ddf5-abc9-4ff5-ac38-134db6fc843e",
   "metadata": {},
   "outputs": [
    {
     "data": {
      "image/png": "[encoded data removed]",
      "text/plain": [
       "<Figure size 1000x500 with 1 Axes>"
      ]
     },
     "metadata": {},
     "output_type": "display_data"
    }
   ],
   "source": [
    "target_train = np.array(df)[:,0]\n",
    "target_val = np.array(df_val)[:,0]\n",
    "\n",
    "hist_train = np.array([len([val for val in target_train if val==bal]) for bal in range(10)])\n",
    "hist_val = np.array([len([val for val in target_val if val==bal]) for bal in range(10)])\n",
    "hist_train = hist_train/np.sum(hist_train)\n",
    "hist_val = hist_val/np.sum(hist_val)\n",
    "\n",
    "plt.figure(figsize=(10,5))\n",
    "\n",
    "plt.bar(np.arange(10)-0.4, hist_train, width=0.4, align=\"edge\", edgecolor=\"black\", linewidth=1, label=\"Train\")\n",
    "plt.bar(np.arange(10)+0, hist_val, width=0.4, align=\"edge\", edgecolor=\"black\", linewidth=1, label=\"Validation\")\n",
    "plt.legend(loc=\"best\")\n",
    "plt.xticks(ticks=np.arange(10))\n",
    "plt.xlabel(xlabel=\"Percentage of samples\")\n",
    "plt.ylabel(ylabel=\"Correct number\")\n",
    "plt.show()"
   ]
  },
  {
   "cell_type": "markdown",
   "id": "0ebb9cc4-32b2-421a-8ad6-fc489ad9b667",
   "metadata": {},
   "source": [
    "# Training the model\n",
    "\n",
    "First, for both the training and validation sets the training and target data is separated."
   ]
  },
  {
   "cell_type": "code",
   "execution_count": 343,
   "id": "9f4c9c16-43d7-4479-84d1-6a8ee592be67",
   "metadata": {},
   "outputs": [],
   "source": [
    "np.random.seed(0)\n",
    "\n",
    "train_X = np.array(df.iloc[:,1:])\n",
    "train_y_col = np.array(df.iloc[:,0]).reshape(-1,1)\n",
    "val_X = np.array(df_val.iloc[:,1:])\n",
    "val_y_col = np.array(df_val.iloc[:,0]).reshape(-1,1)\n",
    "\n",
    "train_y = np.zeros((len(train_y_col), 10))\n",
    "for i in range(len(train_y)):\n",
    "    train_y[i][train_y_col[i]] = 1\n",
    "    \n",
    "val_y = np.zeros((len(val_y_col), 10))\n",
    "for i in range(len(val_y)):\n",
    "    val_y[i][val_y_col[i]] = 1"
   ]
  },
  {
   "cell_type": "markdown",
   "id": "b9c4507c-f61a-4948-a550-97c89b5eca80",
   "metadata": {},
   "source": [
    "Now a Sequential with the structure for the Neural Network can be defined. This Sequential can be used to define a neural network."
   ]
  },
  {
   "cell_type": "code",
   "execution_count": 339,
   "id": "c0180aa6-5ada-4ed8-98aa-c725f78360e7",
   "metadata": {},
   "outputs": [
    {
     "data": {
      "text/plain": [
       "array([[0, 0, 0, ..., 0, 0, 0],\n",
       "       [0, 0, 0, ..., 0, 0, 0],\n",
       "       [0, 0, 0, ..., 0, 0, 0],\n",
       "       ...,\n",
       "       [0, 0, 0, ..., 0, 0, 0],\n",
       "       [0, 0, 0, ..., 0, 0, 0],\n",
       "       [0, 0, 0, ..., 0, 0, 0]], dtype=int64)"
      ]
     },
     "execution_count": 339,
     "metadata": {},
     "output_type": "execute_result"
    }
   ],
   "source": [
    "train_X[:10]"
   ]
  },
  {
   "cell_type": "code",
   "execution_count": 333,
   "id": "26809c77-cecb-4a39-94d6-d48118233912",
   "metadata": {},
   "outputs": [
    {
     "name": "stdout",
     "output_type": "stream",
     "text": [
      "Iteration    0: Cost      nan, params:   nan,   nan\n",
      "Iteration    1: Cost      nan, params:   nan,   nan\n",
      "Iteration    2: Cost      nan, params:   nan,   nan\n",
      "Iteration    3: Cost      nan, params:   nan,   nan\n",
      "Iteration    4: Cost      nan, params:   nan,   nan\n"
     ]
    },
    {
     "ename": "KeyboardInterrupt",
     "evalue": "",
     "output_type": "error",
     "traceback": [
      "\u001b[1;31m---------------------------------------------------------------------------\u001b[0m",
      "\u001b[1;31mKeyboardInterrupt\u001b[0m                         Traceback (most recent call last)",
      "Cell \u001b[1;32mIn[333], line 5\u001b[0m\n\u001b[0;32m      1\u001b[0m seq \u001b[38;5;241m=\u001b[39m orn\u001b[38;5;241m.\u001b[39mSequential([orn\u001b[38;5;241m.\u001b[39mLayer\u001b[38;5;241m.\u001b[39mLinear(\u001b[38;5;241m784\u001b[39m, \u001b[38;5;241m10\u001b[39m, activation\u001b[38;5;241m=\u001b[39m\u001b[38;5;124m\"\u001b[39m\u001b[38;5;124msoftmax\u001b[39m\u001b[38;5;124m\"\u001b[39m)])\n\u001b[0;32m      3\u001b[0m nn \u001b[38;5;241m=\u001b[39m orn\u001b[38;5;241m.\u001b[39mNeuralNetwork(seq, learning_rate\u001b[38;5;241m=\u001b[39m\u001b[38;5;241m1e-10\u001b[39m)\n\u001b[1;32m----> 5\u001b[0m nn\u001b[38;5;241m.\u001b[39mfit(train_X, train_y, epochs\u001b[38;5;241m=\u001b[39m\u001b[38;5;241m10\u001b[39m, batch_size\u001b[38;5;241m=\u001b[39m\u001b[38;5;28;01mNone\u001b[39;00m)\n",
      "File \u001b[1;32m~\\Proton Drive\\laurin.koller\\My files\\ML\\repos\\OrionML\\OrionML\\__init__.py:358\u001b[0m, in \u001b[0;36mNeuralNetwork.fit\u001b[1;34m(self, x, y, epochs, batch_size)\u001b[0m\n\u001b[0;32m    356\u001b[0m     AL \u001b[38;5;241m=\u001b[39m Loss\u001b[38;5;241m.\u001b[39mhinge()\u001b[38;5;241m.\u001b[39mvalue(curr_y, A)\n\u001b[0;32m    357\u001b[0m     dAL \u001b[38;5;241m=\u001b[39m Loss\u001b[38;5;241m.\u001b[39mhinge()\u001b[38;5;241m.\u001b[39mderivative(curr_y, A)\n\u001b[1;32m--> 358\u001b[0m     grads \u001b[38;5;241m=\u001b[39m \u001b[38;5;28mself\u001b[39m\u001b[38;5;241m.\u001b[39mbackward(dAL, caches)\n\u001b[0;32m    359\u001b[0m     \u001b[38;5;28mself\u001b[39m\u001b[38;5;241m.\u001b[39mupdate_parameters(grads)\n\u001b[0;32m    361\u001b[0m \u001b[38;5;28;01mif\u001b[39;00m i\u001b[38;5;241m%\u001b[39m math\u001b[38;5;241m.\u001b[39mceil(epochs\u001b[38;5;241m/\u001b[39m\u001b[38;5;241m10\u001b[39m) \u001b[38;5;241m==\u001b[39m \u001b[38;5;241m0\u001b[39m:\n",
      "File \u001b[1;32m~\\Proton Drive\\laurin.koller\\My files\\ML\\repos\\OrionML\\OrionML\\__init__.py:291\u001b[0m, in \u001b[0;36mNeuralNetwork.backward\u001b[1;34m(self, dA, caches)\u001b[0m\n\u001b[0;32m    288\u001b[0m curr_cache \u001b[38;5;241m=\u001b[39m caches[i]\n\u001b[0;32m    290\u001b[0m \u001b[38;5;28;01mif\u001b[39;00m curr_layer_type \u001b[38;5;241m==\u001b[39m \u001b[38;5;124m\"\u001b[39m\u001b[38;5;124mOrionML.Layer.Linear\u001b[39m\u001b[38;5;124m\"\u001b[39m:\n\u001b[1;32m--> 291\u001b[0m     dA, curr_dw, curr_db \u001b[38;5;241m=\u001b[39m \u001b[38;5;28mself\u001b[39m\u001b[38;5;241m.\u001b[39msequential[i]\u001b[38;5;241m.\u001b[39mbackward(curr_dA, curr_cache)\n\u001b[0;32m    292\u001b[0m     grads \u001b[38;5;241m=\u001b[39m [[dA, curr_dw, curr_db]] \u001b[38;5;241m+\u001b[39m grads\n\u001b[0;32m    294\u001b[0m \u001b[38;5;28;01melif\u001b[39;00m curr_layer_type \u001b[38;5;241m==\u001b[39m \u001b[38;5;124m\"\u001b[39m\u001b[38;5;124mOrionML.Layer.Dropout\u001b[39m\u001b[38;5;124m\"\u001b[39m:\n",
      "File \u001b[1;32m~\\Proton Drive\\laurin.koller\\My files\\ML\\repos\\OrionML\\OrionML\\Layer.py:221\u001b[0m, in \u001b[0;36mLinear.backward\u001b[1;34m(self, dA, cache, training)\u001b[0m\n\u001b[0;32m    196\u001b[0m \u001b[38;5;250m\u001b[39m\u001b[38;5;124;03m'''\u001b[39;00m\n\u001b[0;32m    197\u001b[0m \u001b[38;5;124;03mBackward step of a linear Layer in a Neural Network.\u001b[39;00m\n\u001b[0;32m    198\u001b[0m \n\u001b[1;32m   (...)\u001b[0m\n\u001b[0;32m    218\u001b[0m \n\u001b[0;32m    219\u001b[0m \u001b[38;5;124;03m'''\u001b[39;00m\n\u001b[0;32m    220\u001b[0m prev_A, curr_w, curr_b, curr_Z \u001b[38;5;241m=\u001b[39m cache\n\u001b[1;32m--> 221\u001b[0m d_activation \u001b[38;5;241m=\u001b[39m \u001b[38;5;28mself\u001b[39m\u001b[38;5;241m.\u001b[39mderivative(prev_A)\n\u001b[0;32m    222\u001b[0m curr_dA \u001b[38;5;241m=\u001b[39m np\u001b[38;5;241m.\u001b[39meinsum(\u001b[38;5;124m'\u001b[39m\u001b[38;5;124mijk,ik->ij\u001b[39m\u001b[38;5;124m'\u001b[39m, d_activation, dA)\n\u001b[0;32m    223\u001b[0m curr_dw \u001b[38;5;241m=\u001b[39m \u001b[38;5;241m1\u001b[39m\u001b[38;5;241m/\u001b[39mprev_A\u001b[38;5;241m.\u001b[39mshape[\u001b[38;5;241m0\u001b[39m] \u001b[38;5;241m*\u001b[39m np\u001b[38;5;241m.\u001b[39mmatmul(prev_A\u001b[38;5;241m.\u001b[39mT, curr_dA)\n",
      "File \u001b[1;32m~\\Proton Drive\\laurin.koller\\My files\\ML\\repos\\OrionML\\OrionML\\Layer.py:157\u001b[0m, in \u001b[0;36mLinear.derivative\u001b[1;34m(self, x, training)\u001b[0m\n\u001b[0;32m    137\u001b[0m \u001b[38;5;28;01mdef\u001b[39;00m \u001b[38;5;21mderivative\u001b[39m(\u001b[38;5;28mself\u001b[39m, x, training\u001b[38;5;241m=\u001b[39m\u001b[38;5;28;01mNone\u001b[39;00m):\n\u001b[0;32m    138\u001b[0m \u001b[38;5;250m    \u001b[39m\u001b[38;5;124;03m'''\u001b[39;00m\n\u001b[0;32m    139\u001b[0m \u001b[38;5;124;03m    Get the derivative of the activation function for the values after applying the \u001b[39;00m\n\u001b[0;32m    140\u001b[0m \u001b[38;5;124;03m    weights and bias of the linear Layer to the input data.\u001b[39;00m\n\u001b[1;32m   (...)\u001b[0m\n\u001b[0;32m    155\u001b[0m \n\u001b[0;32m    156\u001b[0m \u001b[38;5;124;03m    '''\u001b[39;00m\n\u001b[1;32m--> 157\u001b[0m     z \u001b[38;5;241m=\u001b[39m np\u001b[38;5;241m.\u001b[39mmatmul(x, \u001b[38;5;28mself\u001b[39m\u001b[38;5;241m.\u001b[39mw) \u001b[38;5;241m+\u001b[39m \u001b[38;5;28mself\u001b[39m\u001b[38;5;241m.\u001b[39mb\n\u001b[0;32m    158\u001b[0m     d_activ \u001b[38;5;241m=\u001b[39m \u001b[38;5;28mself\u001b[39m\u001b[38;5;241m.\u001b[39mactivation_function\u001b[38;5;241m.\u001b[39mderivative(z)\n\u001b[0;32m    159\u001b[0m     \u001b[38;5;28;01mreturn\u001b[39;00m d_activ\n",
      "\u001b[1;31mKeyboardInterrupt\u001b[0m: "
     ]
    }
   ],
   "source": [
    "seq = orn.Sequential([orn.Layer.Linear(784, 10, activation=\"softmax\")])\n",
    "\n",
    "nn = orn.NeuralNetwork(seq, learning_rate=1e-1)\n",
    "\n",
    "nn.fit(train_X, train_y, epochs=10, batch_size=10000)"
   ]
  },
  {
   "cell_type": "markdown",
   "id": "ea85a3a6-303d-42c4-bd5e-3e3403b4e8d6",
   "metadata": {},
   "source": [
    "Now the training data can be used to train the model."
   ]
  },
  {
   "cell_type": "code",
   "execution_count": 329,
   "id": "d4777efd-1f84-4c5b-9eb8-c4178e8883ba",
   "metadata": {},
   "outputs": [
    {
     "name": "stderr",
     "output_type": "stream",
     "text": [
      "C:\\Users\\main\\Proton Drive\\laurin.koller\\My files\\ML\\repos\\OrionML\\OrionML\\activation.py:293: RuntimeWarning: overflow encountered in exp\n",
      "  return np.exp(z)/np.sum(np.exp(z), axis=1, keepdims=True)\n",
      "C:\\Users\\main\\anaconda3\\Lib\\site-packages\\numpy\\core\\fromnumeric.py:88: RuntimeWarning: overflow encountered in reduce\n",
      "  return ufunc.reduce(obj, axis, dtype, out, **passkwargs)\n",
      "C:\\Users\\main\\Proton Drive\\laurin.koller\\My files\\ML\\repos\\OrionML\\OrionML\\activation.py:293: RuntimeWarning: invalid value encountered in divide\n",
      "  return np.exp(z)/np.sum(np.exp(z), axis=1, keepdims=True)\n"
     ]
    },
    {
     "name": "stdout",
     "output_type": "stream",
     "text": [
      "Iteration    0: Cost      nan, params:   nan,   nan\n",
      "Iteration   10: Cost      nan, params:   nan,   nan\n"
     ]
    },
    {
     "ename": "KeyboardInterrupt",
     "evalue": "",
     "output_type": "error",
     "traceback": [
      "\u001b[1;31m---------------------------------------------------------------------------\u001b[0m",
      "\u001b[1;31mKeyboardInterrupt\u001b[0m                         Traceback (most recent call last)",
      "Cell \u001b[1;32mIn[329], line 1\u001b[0m\n\u001b[1;32m----> 1\u001b[0m nn\u001b[38;5;241m.\u001b[39mfit(train_X, train_y, epochs\u001b[38;5;241m=\u001b[39m\u001b[38;5;241m100\u001b[39m, batch_size\u001b[38;5;241m=\u001b[39m\u001b[38;5;28;01mNone\u001b[39;00m)\n",
      "File \u001b[1;32m~\\Proton Drive\\laurin.koller\\My files\\ML\\repos\\OrionML\\OrionML\\__init__.py:358\u001b[0m, in \u001b[0;36mNeuralNetwork.fit\u001b[1;34m(self, x, y, epochs, batch_size)\u001b[0m\n\u001b[0;32m    356\u001b[0m     AL \u001b[38;5;241m=\u001b[39m Loss\u001b[38;5;241m.\u001b[39mhinge()\u001b[38;5;241m.\u001b[39mvalue(curr_y, A)\n\u001b[0;32m    357\u001b[0m     dAL \u001b[38;5;241m=\u001b[39m Loss\u001b[38;5;241m.\u001b[39mhinge()\u001b[38;5;241m.\u001b[39mderivative(curr_y, A)\n\u001b[1;32m--> 358\u001b[0m     grads \u001b[38;5;241m=\u001b[39m \u001b[38;5;28mself\u001b[39m\u001b[38;5;241m.\u001b[39mbackward(dAL, caches)\n\u001b[0;32m    359\u001b[0m     \u001b[38;5;28mself\u001b[39m\u001b[38;5;241m.\u001b[39mupdate_parameters(grads)\n\u001b[0;32m    361\u001b[0m \u001b[38;5;28;01mif\u001b[39;00m i\u001b[38;5;241m%\u001b[39m math\u001b[38;5;241m.\u001b[39mceil(epochs\u001b[38;5;241m/\u001b[39m\u001b[38;5;241m10\u001b[39m) \u001b[38;5;241m==\u001b[39m \u001b[38;5;241m0\u001b[39m:\n",
      "File \u001b[1;32m~\\Proton Drive\\laurin.koller\\My files\\ML\\repos\\OrionML\\OrionML\\__init__.py:291\u001b[0m, in \u001b[0;36mNeuralNetwork.backward\u001b[1;34m(self, dA, caches)\u001b[0m\n\u001b[0;32m    288\u001b[0m curr_cache \u001b[38;5;241m=\u001b[39m caches[i]\n\u001b[0;32m    290\u001b[0m \u001b[38;5;28;01mif\u001b[39;00m curr_layer_type \u001b[38;5;241m==\u001b[39m \u001b[38;5;124m\"\u001b[39m\u001b[38;5;124mOrionML.Layer.Linear\u001b[39m\u001b[38;5;124m\"\u001b[39m:\n\u001b[1;32m--> 291\u001b[0m     dA, curr_dw, curr_db \u001b[38;5;241m=\u001b[39m \u001b[38;5;28mself\u001b[39m\u001b[38;5;241m.\u001b[39msequential[i]\u001b[38;5;241m.\u001b[39mbackward(curr_dA, curr_cache)\n\u001b[0;32m    292\u001b[0m     grads \u001b[38;5;241m=\u001b[39m [[dA, curr_dw, curr_db]] \u001b[38;5;241m+\u001b[39m grads\n\u001b[0;32m    294\u001b[0m \u001b[38;5;28;01melif\u001b[39;00m curr_layer_type \u001b[38;5;241m==\u001b[39m \u001b[38;5;124m\"\u001b[39m\u001b[38;5;124mOrionML.Layer.Dropout\u001b[39m\u001b[38;5;124m\"\u001b[39m:\n",
      "File \u001b[1;32m~\\Proton Drive\\laurin.koller\\My files\\ML\\repos\\OrionML\\OrionML\\Layer.py:221\u001b[0m, in \u001b[0;36mLinear.backward\u001b[1;34m(self, dA, cache, training)\u001b[0m\n\u001b[0;32m    196\u001b[0m \u001b[38;5;250m\u001b[39m\u001b[38;5;124;03m'''\u001b[39;00m\n\u001b[0;32m    197\u001b[0m \u001b[38;5;124;03mBackward step of a linear Layer in a Neural Network.\u001b[39;00m\n\u001b[0;32m    198\u001b[0m \n\u001b[1;32m   (...)\u001b[0m\n\u001b[0;32m    218\u001b[0m \n\u001b[0;32m    219\u001b[0m \u001b[38;5;124;03m'''\u001b[39;00m\n\u001b[0;32m    220\u001b[0m prev_A, curr_w, curr_b, curr_Z \u001b[38;5;241m=\u001b[39m cache\n\u001b[1;32m--> 221\u001b[0m d_activation \u001b[38;5;241m=\u001b[39m \u001b[38;5;28mself\u001b[39m\u001b[38;5;241m.\u001b[39mderivative(prev_A)\n\u001b[0;32m    222\u001b[0m curr_dA \u001b[38;5;241m=\u001b[39m np\u001b[38;5;241m.\u001b[39meinsum(\u001b[38;5;124m'\u001b[39m\u001b[38;5;124mijk,ik->ij\u001b[39m\u001b[38;5;124m'\u001b[39m, d_activation, dA)\n\u001b[0;32m    223\u001b[0m curr_dw \u001b[38;5;241m=\u001b[39m \u001b[38;5;241m1\u001b[39m\u001b[38;5;241m/\u001b[39mprev_A\u001b[38;5;241m.\u001b[39mshape[\u001b[38;5;241m0\u001b[39m] \u001b[38;5;241m*\u001b[39m np\u001b[38;5;241m.\u001b[39mmatmul(prev_A\u001b[38;5;241m.\u001b[39mT, curr_dA)\n",
      "File \u001b[1;32m~\\Proton Drive\\laurin.koller\\My files\\ML\\repos\\OrionML\\OrionML\\Layer.py:157\u001b[0m, in \u001b[0;36mLinear.derivative\u001b[1;34m(self, x, training)\u001b[0m\n\u001b[0;32m    137\u001b[0m \u001b[38;5;28;01mdef\u001b[39;00m \u001b[38;5;21mderivative\u001b[39m(\u001b[38;5;28mself\u001b[39m, x, training\u001b[38;5;241m=\u001b[39m\u001b[38;5;28;01mNone\u001b[39;00m):\n\u001b[0;32m    138\u001b[0m \u001b[38;5;250m    \u001b[39m\u001b[38;5;124;03m'''\u001b[39;00m\n\u001b[0;32m    139\u001b[0m \u001b[38;5;124;03m    Get the derivative of the activation function for the values after applying the \u001b[39;00m\n\u001b[0;32m    140\u001b[0m \u001b[38;5;124;03m    weights and bias of the linear Layer to the input data.\u001b[39;00m\n\u001b[1;32m   (...)\u001b[0m\n\u001b[0;32m    155\u001b[0m \n\u001b[0;32m    156\u001b[0m \u001b[38;5;124;03m    '''\u001b[39;00m\n\u001b[1;32m--> 157\u001b[0m     z \u001b[38;5;241m=\u001b[39m np\u001b[38;5;241m.\u001b[39mmatmul(x, \u001b[38;5;28mself\u001b[39m\u001b[38;5;241m.\u001b[39mw) \u001b[38;5;241m+\u001b[39m \u001b[38;5;28mself\u001b[39m\u001b[38;5;241m.\u001b[39mb\n\u001b[0;32m    158\u001b[0m     d_activ \u001b[38;5;241m=\u001b[39m \u001b[38;5;28mself\u001b[39m\u001b[38;5;241m.\u001b[39mactivation_function\u001b[38;5;241m.\u001b[39mderivative(z)\n\u001b[0;32m    159\u001b[0m     \u001b[38;5;28;01mreturn\u001b[39;00m d_activ\n",
      "\u001b[1;31mKeyboardInterrupt\u001b[0m: "
     ]
    }
   ],
   "source": [
    "nn.fit(train_X, train_y, epochs=100, batch_size=None)"
   ]
  },
  {
   "cell_type": "code",
   "execution_count": 327,
   "id": "9a8085d7-7aeb-4679-a7b6-42c73365451f",
   "metadata": {},
   "outputs": [
    {
     "data": {
      "text/plain": [
       "array([[5],\n",
       "       [0],\n",
       "       [4],\n",
       "       ...,\n",
       "       [5],\n",
       "       [6],\n",
       "       [8]], dtype=int64)"
      ]
     },
     "execution_count": 327,
     "metadata": {},
     "output_type": "execute_result"
    }
   ],
   "source": [
    "train_y"
   ]
  },
  {
   "cell_type": "code",
   "execution_count": null,
   "id": "28c293ee-7ff3-48c5-8918-cf4c4b7ff59c",
   "metadata": {},
   "outputs": [],
   "source": [
    "\n",
    "\n",
    "\n",
    "\n",
    "\n",
    "\n",
    "\n",
    "\n",
    "\n",
    "\n",
    "\n",
    "\n",
    "\n",
    "\n",
    "\n",
    "\n",
    "\n",
    "\n",
    "\n",
    "\n",
    "\n",
    "\n",
    "\n",
    "\n",
    "\n",
    "\n",
    "\n",
    "\n",
    "\n",
    "\n",
    "\n",
    "\n",
    "\n",
    "\n",
    "\n",
    "\n",
    "\n",
    "\n",
    "\n",
    "\n",
    "\n",
    "\n",
    "\n",
    "\n",
    "\n",
    "\n",
    "\n",
    "\n",
    "\n",
    "\n",
    "\n",
    "\n",
    "\n",
    "\n",
    "\n",
    "\n",
    "\n",
    "\n",
    "\n",
    "\n",
    "\n",
    "\n",
    "\n",
    "\n",
    "\n",
    "\n",
    "\n",
    "\n",
    "\n",
    "\n",
    "\n"
   ]
  }
 ],
 "metadata": {
  "kernelspec": {
   "display_name": "Python [conda env:base] *",
   "language": "python",
   "name": "conda-base-py"
  },
  "language_info": {
   "codemirror_mode": {
    "name": "ipython",
    "version": 3
   },
   "file_extension": ".py",
   "mimetype": "text/x-python",
   "name": "python",
   "nbconvert_exporter": "python",
   "pygments_lexer": "ipython3",
   "version": "3.12.7"
  }
 },
 "nbformat": 4,
 "nbformat_minor": 5
}
