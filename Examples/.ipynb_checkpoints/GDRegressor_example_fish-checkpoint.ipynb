{
 "cells": [
  {
   "cell_type": "markdown",
   "id": "f8e7f310-a548-4009-824c-19489e105a5f",
   "metadata": {},
   "source": [
    "# Gradient Descent Regression example\n",
    "\n",
    "In this notebook, an example using the gradient descent method for regression is presented.\n",
    "For the data, the Fish Market dataset from kaggle (https://www.kaggle.com/datasets/vipullrathod/fish-market) is used where we try and predict the weight of a fish based on 5 different length measurements.\n",
    "\n",
    "First, import the required libraries."
   ]
  },
  {
   "cell_type": "code",
   "execution_count": 46,
   "id": "9c426e73-79c0-4efb-a0ec-7e48751bda98",
   "metadata": {},
   "outputs": [],
   "source": [
    "import numpy as np\n",
    "import matplotlib.pyplot as plt\n",
    "import polars as pl\n",
    "import seaborn as sns\n",
    "\n",
    "import os\n",
    "os.chdir(\"C:\\\\Users\\\\main\\\\Proton Drive\\\\laurin.koller\\\\My files\\\\ML\\\\repos\\\\OrionML\")\n",
    "\n",
    "import OrionML as orn"
   ]
  },
  {
   "cell_type": "markdown",
   "id": "1b4ad3d4-1802-4d1f-b6e8-a6fea6bb19f1",
   "metadata": {},
   "source": [
    "Next, the data is imported in a polars DataFrame and the first 5 columns of the data can be seen. The goal is to predict the weight of a fish based on the five columns *Length1*, *Length2*, *Length3*, *Height* and *Width*."
   ]
  },
  {
   "cell_type": "code",
   "execution_count": 47,
   "id": "feb9d2a1-e2e2-4c25-b079-d064be8c0f26",
   "metadata": {},
   "outputs": [
    {
     "data": {
      "text/html": [
       "<div><style>\n",
       ".dataframe > thead > tr,\n",
       ".dataframe > tbody > tr {\n",
       "  text-align: right;\n",
       "  white-space: pre-wrap;\n",
       "}\n",
       "</style>\n",
       "<small>shape: (5, 7)</small><table border=\"1\" class=\"dataframe\"><thead><tr><th>Species</th><th>Weight</th><th>Length1</th><th>Length2</th><th>Length3</th><th>Height</th><th>Width</th></tr><tr><td>str</td><td>f64</td><td>f64</td><td>f64</td><td>f64</td><td>f64</td><td>f64</td></tr></thead><tbody><tr><td>&quot;Bream&quot;</td><td>242.0</td><td>23.2</td><td>25.4</td><td>30.0</td><td>11.52</td><td>4.02</td></tr><tr><td>&quot;Bream&quot;</td><td>290.0</td><td>24.0</td><td>26.3</td><td>31.2</td><td>12.48</td><td>4.3056</td></tr><tr><td>&quot;Bream&quot;</td><td>340.0</td><td>23.9</td><td>26.5</td><td>31.1</td><td>12.3778</td><td>4.6961</td></tr><tr><td>&quot;Bream&quot;</td><td>363.0</td><td>26.3</td><td>29.0</td><td>33.5</td><td>12.73</td><td>4.4555</td></tr><tr><td>&quot;Bream&quot;</td><td>430.0</td><td>26.5</td><td>29.0</td><td>34.0</td><td>12.444</td><td>5.134</td></tr></tbody></table></div>"
      ],
      "text/plain": [
       "shape: (5, 7)\n",
       "┌─────────┬────────┬─────────┬─────────┬─────────┬─────────┬────────┐\n",
       "│ Species ┆ Weight ┆ Length1 ┆ Length2 ┆ Length3 ┆ Height  ┆ Width  │\n",
       "│ ---     ┆ ---    ┆ ---     ┆ ---     ┆ ---     ┆ ---     ┆ ---    │\n",
       "│ str     ┆ f64    ┆ f64     ┆ f64     ┆ f64     ┆ f64     ┆ f64    │\n",
       "╞═════════╪════════╪═════════╪═════════╪═════════╪═════════╪════════╡\n",
       "│ Bream   ┆ 242.0  ┆ 23.2    ┆ 25.4    ┆ 30.0    ┆ 11.52   ┆ 4.02   │\n",
       "│ Bream   ┆ 290.0  ┆ 24.0    ┆ 26.3    ┆ 31.2    ┆ 12.48   ┆ 4.3056 │\n",
       "│ Bream   ┆ 340.0  ┆ 23.9    ┆ 26.5    ┆ 31.1    ┆ 12.3778 ┆ 4.6961 │\n",
       "│ Bream   ┆ 363.0  ┆ 26.3    ┆ 29.0    ┆ 33.5    ┆ 12.73   ┆ 4.4555 │\n",
       "│ Bream   ┆ 430.0  ┆ 26.5    ┆ 29.0    ┆ 34.0    ┆ 12.444  ┆ 5.134  │\n",
       "└─────────┴────────┴─────────┴─────────┴─────────┴─────────┴────────┘"
      ]
     },
     "execution_count": 47,
     "metadata": {},
     "output_type": "execute_result"
    }
   ],
   "source": [
    "data = pl.read_csv(\"C:\\\\Users\\\\main\\\\Proton Drive\\\\laurin.koller\\\\My files\\\\ML\\\\repos\\\\OrionML\\\\Examples\\\\example data\\\\fish market\\\\Fish.csv\")\n",
    "\n",
    "data.head()"
   ]
  },
  {
   "cell_type": "markdown",
   "id": "72da7087-1b00-430a-99c4-847eb317a12d",
   "metadata": {},
   "source": [
    "## Data Cleaning\n",
    "\n",
    "Let's check for any missing values and duplicate rows in the dataset."
   ]
  },
  {
   "cell_type": "code",
   "execution_count": 68,
   "id": "df778f3b-84ec-46e0-a407-7e17523ac5e8",
   "metadata": {},
   "outputs": [
    {
     "name": "stdout",
     "output_type": "stream",
     "text": [
      "Number of missing values in each column: \n"
     ]
    },
    {
     "data": {
      "text/html": [
       "<div><style>\n",
       ".dataframe > thead > tr,\n",
       ".dataframe > tbody > tr {\n",
       "  text-align: right;\n",
       "  white-space: pre-wrap;\n",
       "}\n",
       "</style>\n",
       "<small>shape: (1, 7)</small><table border=\"1\" class=\"dataframe\"><thead><tr><th>Species</th><th>Weight</th><th>Length1</th><th>Length2</th><th>Length3</th><th>Height</th><th>Width</th></tr><tr><td>u32</td><td>u32</td><td>u32</td><td>u32</td><td>u32</td><td>u32</td><td>u32</td></tr></thead><tbody><tr><td>0</td><td>0</td><td>0</td><td>0</td><td>0</td><td>0</td><td>0</td></tr></tbody></table></div>"
      ],
      "text/plain": [
       "shape: (1, 7)\n",
       "┌─────────┬────────┬─────────┬─────────┬─────────┬────────┬───────┐\n",
       "│ Species ┆ Weight ┆ Length1 ┆ Length2 ┆ Length3 ┆ Height ┆ Width │\n",
       "│ ---     ┆ ---    ┆ ---     ┆ ---     ┆ ---     ┆ ---    ┆ ---   │\n",
       "│ u32     ┆ u32    ┆ u32     ┆ u32     ┆ u32     ┆ u32    ┆ u32   │\n",
       "╞═════════╪════════╪═════════╪═════════╪═════════╪════════╪═══════╡\n",
       "│ 0       ┆ 0      ┆ 0       ┆ 0       ┆ 0       ┆ 0      ┆ 0     │\n",
       "└─────────┴────────┴─────────┴─────────┴─────────┴────────┴───────┘"
      ]
     },
     "metadata": {},
     "output_type": "display_data"
    },
    {
     "name": "stdout",
     "output_type": "stream",
     "text": [
      "Number of duplicate rows: 0\n"
     ]
    }
   ],
   "source": [
    "print(\"Number of missing values in each column: \")\n",
    "display(data.null_count())\n",
    "\n",
    "duplicates = data.is_duplicated().sum()\n",
    "print(f\"Number of duplicate rows: {duplicates}\")"
   ]
  },
  {
   "cell_type": "markdown",
   "id": "519048a4-cbe5-49b1-8680-dd95eb1f4e33",
   "metadata": {},
   "source": [
    "## Inspect Dataset\n",
    "\n",
    "Let's group the data by the species and see how many fish of each species are in the dataset."
   ]
  },
  {
   "cell_type": "code",
   "execution_count": 81,
   "id": "8067b974-a431-42ad-b8c8-023999251580",
   "metadata": {},
   "outputs": [
    {
     "data": {
      "image/png": "[encoded data removed]",
      "text/plain": [
       "<Figure size 640x480 with 1 Axes>"
      ]
     },
     "metadata": {},
     "output_type": "display_data"
    }
   ],
   "source": [
    "data_grouped = data.group_by(\"Species\")\n",
    "species = data_grouped.len().to_numpy()[:,0]\n",
    "num_species = data_grouped.len().to_numpy()[:,1]\n",
    "\n",
    "plt.figure()\n",
    "sns.countplot(x=\"Species\", data=data, hue=\"Species\", palette=\"viridis\")\n",
    "plt.title(\"Count of Each Fish Species\")\n",
    "plt.xlabel(\"Fish Species\")\n",
    "plt.ylabel(\"Count\")\n",
    "plt.xticks(rotation=45)\n",
    "plt.tight_layout()\n",
    "plt.show()"
   ]
  },
  {
   "cell_type": "code",
   "execution_count": 75,
   "id": "fdb65047-9df7-4304-8e6b-d85e11868f82",
   "metadata": {},
   "outputs": [
    {
     "data": {
      "text/plain": [
       "(array(['Parkki', 'Smelt', 'Whitefish', 'Pike', 'Bream', 'Roach', 'Perch'],\n",
       "       dtype=object),\n",
       " array([17, 56, 20, 11, 6, 35, 14], dtype=object))"
      ]
     },
     "execution_count": 75,
     "metadata": {},
     "output_type": "execute_result"
    }
   ],
   "source": [
    "species, num_species"
   ]
  },
  {
   "cell_type": "code",
   "execution_count": 73,
   "id": "2c99c1b7-f5d9-4d3f-a975-eb440ed43937",
   "metadata": {},
   "outputs": [
    {
     "data": {
      "text/plain": [
       "array([['Perch', 56],\n",
       "       ['Pike', 17],\n",
       "       ['Whitefish', 6],\n",
       "       ['Bream', 35],\n",
       "       ['Smelt', 14],\n",
       "       ['Roach', 20],\n",
       "       ['Parkki', 11]], dtype=object)"
      ]
     },
     "execution_count": 73,
     "metadata": {},
     "output_type": "execute_result"
    }
   ],
   "source": [
    "data_grouped.len().to_numpy()"
   ]
  },
  {
   "cell_type": "code",
   "execution_count": 49,
   "id": "47ef4e4a-e747-46f8-9988-c4378c83d743",
   "metadata": {},
   "outputs": [
    {
     "name": "stdout",
     "output_type": "stream",
     "text": [
      "Roach\n",
      "Smelt\n",
      "Whitefish\n",
      "Parkki\n",
      "Perch\n",
      "Pike\n",
      "Bream\n"
     ]
    }
   ],
   "source": [
    "num_species = []\n",
    "species = set(data.get_column(\"Species\"))\n",
    "\n",
    "for curr_species in species:\n",
    "    num_species = "
   ]
  },
  {
   "cell_type": "markdown",
   "id": "fd505e5f-fa0d-4cb8-8c60-4ed79094c039",
   "metadata": {},
   "source": [
    "Next, the random seed that numpy uses is set for reproducability. Then the data is split between a training and validation set where 80% of the data is used in the training set. For this the DataFrame is converted to a numpy array. Then the training and validation set are split into the features and the target variables. The gradient descent regressor method expects the targets to be two dimensional with second dimension 1, so the training and validation targets are reshaped."
   ]
  },
  {
   "cell_type": "code",
   "execution_count": 30,
   "id": "55a6a978-24fa-4f78-b4cd-3769c5501583",
   "metadata": {},
   "outputs": [],
   "source": [
    "np.random.seed(0)\n",
    "\n",
    "train, val = orn.utils.train_test_split(data.to_numpy(), train=0.8, shuffle=True)\n",
    "train_X = train[:,1:]\n",
    "train_y = train[:,0].reshape(-1,1)\n",
    "val_X = val[:,1:]\n",
    "val_y = val[:,0].reshape(-1,1)"
   ]
  },
  {
   "cell_type": "markdown",
   "id": "be8ac339-e8c9-434e-8a75-06dd790316e1",
   "metadata": {},
   "source": [
    "Now a object of type orn.method.GDRegressor is created and the training data is fit to the training targets."
   ]
  },
  {
   "cell_type": "code",
   "execution_count": 33,
   "id": "8548bc57-9116-428e-9151-308913de2fcd",
   "metadata": {},
   "outputs": [
    {
     "name": "stdout",
     "output_type": "stream",
     "text": [
      "Iteration    0: Cost 220827.6101\n",
      "Iteration   10: Cost 100349.4384\n",
      "Iteration   20: Cost 64533.6314\n",
      "Iteration   30: Cost 53885.3045\n",
      "Iteration   40: Cost 50718.4845\n",
      "Iteration   50: Cost 49775.6832\n",
      "Iteration   60: Cost 49494.0136\n",
      "Iteration   70: Cost 49408.8781\n",
      "Iteration   80: Cost 49382.1662\n",
      "Iteration   90: Cost 49372.8220\n"
     ]
    }
   ],
   "source": [
    "clf = orn.method.GDRegressor(loss_function=\"squared_error\", learning_rate=1e-5, num_iters=100, verbose=True, batch_size=None)\n",
    "\n",
    "clf.fit(train_X, train_y)"
   ]
  },
  {
   "cell_type": "markdown",
   "id": "2434ccbe-4db8-4620-a482-8578db2c4ad5",
   "metadata": {},
   "source": [
    "We can now predict the weights of the fish in the validation data."
   ]
  },
  {
   "cell_type": "code",
   "execution_count": 36,
   "id": "31799d99-2810-41d6-b025-04c553bfe610",
   "metadata": {},
   "outputs": [],
   "source": [
    "pred = clf.predict(val_X)\n",
    "diff = val_y-pred"
   ]
  },
  {
   "cell_type": "code",
   "execution_count": 40,
   "id": "17471943-2c54-4011-9168-07f98ea6a9de",
   "metadata": {},
   "outputs": [
    {
     "data": {
      "text/plain": [
       "<matplotlib.collections.PathCollection at 0x1555cd99760>"
      ]
     },
     "execution_count": 40,
     "metadata": {},
     "output_type": "execute_result"
    },
    {
     "data": {
      "image/png": "[encoded data removed]",
      "text/plain": [
       "<Figure size 640x480 with 1 Axes>"
      ]
     },
     "metadata": {},
     "output_type": "display_data"
    }
   ],
   "source": [
    "plt.scatter(pred, val_y)"
   ]
  },
  {
   "cell_type": "code",
   "execution_count": 45,
   "id": "fb47b8f9-97ec-4d3c-9993-9b0077b76b8c",
   "metadata": {},
   "outputs": [
    {
     "data": {
      "text/html": [
       "<div><style>\n",
       ".dataframe > thead > tr,\n",
       ".dataframe > tbody > tr {\n",
       "  text-align: right;\n",
       "  white-space: pre-wrap;\n",
       "}\n",
       "</style>\n",
       "<small>shape: (35, 7)</small><table border=\"1\" class=\"dataframe\"><thead><tr><th>Species</th><th>Weight</th><th>Length1</th><th>Length2</th><th>Length3</th><th>Height</th><th>Width</th></tr><tr><td>str</td><td>f64</td><td>f64</td><td>f64</td><td>f64</td><td>f64</td><td>f64</td></tr></thead><tbody><tr><td>&quot;Bream&quot;</td><td>242.0</td><td>23.2</td><td>25.4</td><td>30.0</td><td>11.52</td><td>4.02</td></tr><tr><td>&quot;Bream&quot;</td><td>290.0</td><td>24.0</td><td>26.3</td><td>31.2</td><td>12.48</td><td>4.3056</td></tr><tr><td>&quot;Bream&quot;</td><td>340.0</td><td>23.9</td><td>26.5</td><td>31.1</td><td>12.3778</td><td>4.6961</td></tr><tr><td>&quot;Bream&quot;</td><td>363.0</td><td>26.3</td><td>29.0</td><td>33.5</td><td>12.73</td><td>4.4555</td></tr><tr><td>&quot;Bream&quot;</td><td>430.0</td><td>26.5</td><td>29.0</td><td>34.0</td><td>12.444</td><td>5.134</td></tr><tr><td>&hellip;</td><td>&hellip;</td><td>&hellip;</td><td>&hellip;</td><td>&hellip;</td><td>&hellip;</td><td>&hellip;</td></tr><tr><td>&quot;Bream&quot;</td><td>920.0</td><td>35.0</td><td>38.5</td><td>44.1</td><td>18.0369</td><td>6.3063</td></tr><tr><td>&quot;Bream&quot;</td><td>955.0</td><td>35.0</td><td>38.5</td><td>44.0</td><td>18.084</td><td>6.292</td></tr><tr><td>&quot;Bream&quot;</td><td>925.0</td><td>36.2</td><td>39.5</td><td>45.3</td><td>18.7542</td><td>6.7497</td></tr><tr><td>&quot;Bream&quot;</td><td>975.0</td><td>37.4</td><td>41.0</td><td>45.9</td><td>18.6354</td><td>6.7473</td></tr><tr><td>&quot;Bream&quot;</td><td>950.0</td><td>38.0</td><td>41.0</td><td>46.5</td><td>17.6235</td><td>6.3705</td></tr></tbody></table></div>"
      ],
      "text/plain": [
       "shape: (35, 7)\n",
       "┌─────────┬────────┬─────────┬─────────┬─────────┬─────────┬────────┐\n",
       "│ Species ┆ Weight ┆ Length1 ┆ Length2 ┆ Length3 ┆ Height  ┆ Width  │\n",
       "│ ---     ┆ ---    ┆ ---     ┆ ---     ┆ ---     ┆ ---     ┆ ---    │\n",
       "│ str     ┆ f64    ┆ f64     ┆ f64     ┆ f64     ┆ f64     ┆ f64    │\n",
       "╞═════════╪════════╪═════════╪═════════╪═════════╪═════════╪════════╡\n",
       "│ Bream   ┆ 242.0  ┆ 23.2    ┆ 25.4    ┆ 30.0    ┆ 11.52   ┆ 4.02   │\n",
       "│ Bream   ┆ 290.0  ┆ 24.0    ┆ 26.3    ┆ 31.2    ┆ 12.48   ┆ 4.3056 │\n",
       "│ Bream   ┆ 340.0  ┆ 23.9    ┆ 26.5    ┆ 31.1    ┆ 12.3778 ┆ 4.6961 │\n",
       "│ Bream   ┆ 363.0  ┆ 26.3    ┆ 29.0    ┆ 33.5    ┆ 12.73   ┆ 4.4555 │\n",
       "│ Bream   ┆ 430.0  ┆ 26.5    ┆ 29.0    ┆ 34.0    ┆ 12.444  ┆ 5.134  │\n",
       "│ …       ┆ …      ┆ …       ┆ …       ┆ …       ┆ …       ┆ …      │\n",
       "│ Bream   ┆ 920.0  ┆ 35.0    ┆ 38.5    ┆ 44.1    ┆ 18.0369 ┆ 6.3063 │\n",
       "│ Bream   ┆ 955.0  ┆ 35.0    ┆ 38.5    ┆ 44.0    ┆ 18.084  ┆ 6.292  │\n",
       "│ Bream   ┆ 925.0  ┆ 36.2    ┆ 39.5    ┆ 45.3    ┆ 18.7542 ┆ 6.7497 │\n",
       "│ Bream   ┆ 975.0  ┆ 37.4    ┆ 41.0    ┆ 45.9    ┆ 18.6354 ┆ 6.7473 │\n",
       "│ Bream   ┆ 950.0  ┆ 38.0    ┆ 41.0    ┆ 46.5    ┆ 17.6235 ┆ 6.3705 │\n",
       "└─────────┴────────┴─────────┴─────────┴─────────┴─────────┴────────┘"
      ]
     },
     "execution_count": 45,
     "metadata": {},
     "output_type": "execute_result"
    }
   ],
   "source": [
    "data.filter(pl.col(\"Species\")==\"Bream\")"
   ]
  },
  {
   "cell_type": "code",
   "execution_count": 38,
   "id": "8e37eb8c-8308-4986-8941-f87ee1549cd0",
   "metadata": {},
   "outputs": [
    {
     "data": {
      "text/plain": [
       "array([[ 112.28119399],\n",
       "       [ 320.56083318],\n",
       "       [-254.19552951],\n",
       "       [ 302.63103512],\n",
       "       [  22.86855202]])"
      ]
     },
     "execution_count": 38,
     "metadata": {},
     "output_type": "execute_result"
    }
   ],
   "source": [
    "diff[:5]"
   ]
  },
  {
   "cell_type": "code",
   "execution_count": 31,
   "id": "289606c8-4801-4312-b5ea-a107ab5a97fd",
   "metadata": {},
   "outputs": [
    {
     "data": {
      "text/plain": [
       "array([[27.6   , 30.    , 35.    , 12.67  ,  4.69  ],\n",
       "       [19.    , 20.5   , 22.8   ,  6.4752,  3.3516],\n",
       "       [21.5   , 23.5   , 25.    ,  6.275 ,  3.725 ],\n",
       "       [20.5   , 22.5   , 25.3   ,  7.0334,  3.8203],\n",
       "       [32.    , 34.5   , 36.5   , 10.2565,  6.3875]])"
      ]
     },
     "execution_count": 31,
     "metadata": {},
     "output_type": "execute_result"
    }
   ],
   "source": [
    "train_X[:5]"
   ]
  },
  {
   "cell_type": "code",
   "execution_count": 32,
   "id": "79de5727-051e-4316-ab17-e5fa0b590e29",
   "metadata": {},
   "outputs": [
    {
     "data": {
      "text/plain": [
       "array([[390.],\n",
       "       [  0.],\n",
       "       [170.],\n",
       "       [160.],\n",
       "       [556.]])"
      ]
     },
     "execution_count": 32,
     "metadata": {},
     "output_type": "execute_result"
    }
   ],
   "source": [
    "train_y[:5]"
   ]
  }
 ],
 "metadata": {
  "kernelspec": {
   "display_name": "Python 3 (ipykernel)",
   "language": "python",
   "name": "python3"
  },
  "language_info": {
   "codemirror_mode": {
    "name": "ipython",
    "version": 3
   },
   "file_extension": ".py",
   "mimetype": "text/x-python",
   "name": "python",
   "nbconvert_exporter": "python",
   "pygments_lexer": "ipython3",
   "version": "3.12.3"
  }
 },
 "nbformat": 4,
 "nbformat_minor": 5
}
